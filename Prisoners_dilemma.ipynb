{
 "cells": [
  {
   "cell_type": "markdown",
   "metadata": {},
   "source": [
    "# Iterated Prisoner's Dilemma"
   ]
  },
  {
   "cell_type": "markdown",
   "metadata": {},
   "source": [
    "## The problem\n",
    "The Prisoner's dilemma is an example of a game that shows why two rational individuals might not cooperate, even if it appears in their best interest to do so.  \n",
    "The example cites as follows:  \n",
    "\"Two members of a criminal gang are arrested and imprisoned. Each prisoner is in solitary confinement with no means of speaking to or exchanging messages with the other. The police admit they don't have enough evidence to convict the pair on the principal charge. They plan to sentence both to a year in prison on a lesser charge. Simultaneously, the police offer each prisoner a Faustian bargain.\" ([cit](https://www.worldcat.org/title/prisoners-dilemma/oclc/23383657))\n",
    "\n",
    "Each player A and B has two actions: cooperate (C) with the other prisoner or defect (D), giving them up to the autorities. Both players decide on their action without knowing the action of the other player.\n",
    "\n",
    "In the following matrix, the values $(A_{i,j},B_{i,j})$ refer to the payoff A and B, respectively, would get in the case A chose action $i$ and B chose action $j$, where $i,j \\in \\{ \\text{cooperate}, \\text{defect}\\}$. \n",
    "\n",
    "$$\n",
    "\\begin{aligned}\n",
    "& \\text {Payoff matrix }\\\\\n",
    "&\\begin{array}{cccc}\n",
    "\\hline \\hline  &  & \\qquad \\text{Prisoner B} \\\\\n",
    " &  & \\text{Cooperate}  & \\text{Defect} \\\\\n",
    "\\text{Prisoner A} & \\text{Cooperate} & (R,R) & (S,T) \\\\\n",
    " & \\text{Defect} & (T,S) & (P,P) \\\\\n",
    "\\hline\n",
    "\\end{array}\n",
    "\\end{aligned}\n",
    "$$\n",
    "This table defines a Prisoner’s Dilemma game if $T > R > P > S$ and $2R > S + T$. This way, the dilemma unfolds: For each player it is individually beneficial to defect, irrespective of the choice of his opponent. The highest mutual payoff, however, is generated when both players cooperate.\n",
    "\n",
    "It is assumed that both prisoners understand the nature of the game, have no loyalty to each other, and will have no opportunity for retribution or reward outside the game. \n",
    "\n",
    "### Iterated version\n",
    "If two players play the game more than once in succession and they remember previous actions of their opponent and change their strategy accordingly, the game is called Iterated Prisoner's Dilemma (IPD).  \n",
    "After each game, each player observes both the previous action of their opponent and their own previous action.\n",
    "\n",
    "## Formalisation\n",
    "The prisoner's dilemma is a 2-player Matrix game, has only four states and two choices of actions. Since the reward (payoff) for a given action depends also on the actions of the other player, it is an adversarial bandits problem.  \n",
    "The four states consist of all possible combinations of actions for (A's previous action, B's previous action): $(C,C), (C,D), (D,C), (D,D)$. However, this setting can be simplified in some cases presented later.\n",
    "\n",
    "At each time $t$, the player simultaneously choose their actions. The rewards depend on both actions, and they can be written as the payoff matrix reported above.  \n",
    "\n",
    "Considering the set of possible actions, if for any pair no individual player can benefit by changing its individual strategy, then that's a Nash equilibrium.\n",
    "There has been [research](https://www.pnas.org/doi/10.1073/pnas.1206569109) showing that only one single previous state is needed, in order to define any prisoner’s dilemma strategy.\n",
    "\n",
    "### Q-Learning \n",
    "One agent learns the value function via Q-learning, a reinforcement learning technique developed in $1989$ that iteratively updates expected cumulative discounted reward $Q$ given a state $s$, and a future action $a$ (from [Sutton and Barto](http://incompleteideas.net/book/the-book-2nd.html)):  \n",
    "<img src=\"Qlearning.png\" width=\"500\">\n",
    "\n",
    "The action gets chosen using a decaying $\\varepsilon$-greedy policy, that is, \n",
    "$$A_t = \\begin{cases} \\max_a Q(A_t) \\quad \\text{with probability } 1- \\varepsilon \\\\ \\text{random action} \\quad \\text{with probability }\\varepsilon \\end{cases}$$\n",
    "\n",
    "As the update rule does not depend on the current exploration but on the assumed optimal choice, Q-Learning does not require the current policy to converge towards the optimal policy, therefore doesn't strictly need the decaying $\\varepsilon$, as for example SARSA would. Q-learning is able to generate an optimal policy even using only uniformly random actions, given sufficient iterations. Nevertheless, \n",
    "\n",
    "The parameters used will be:\n",
    "* The values $R = 3$, $S = 0$, $T =5$, $P=1$ for the payoff matrix\n",
    "* a discount factor $\\gamma = 0.95$\n",
    "* a learning rate $\\alpha = 0.1$\n",
    "* a starting epsilon $\\varepsilon = 0.3$, with a decay of $0.999$ per step, reaching a minimum of $\\varepsilon = 0.1$\n",
    "\n",
    "The payoff matrix is\n",
    "$$\n",
    "\\begin{aligned}\n",
    "& \\text {Payoff matrix }\\\\\n",
    "&\\begin{array}{cccc}\n",
    "\\hline \\hline  &  & \\qquad \\text{Prisoner B} \\\\\n",
    " &  & \\text{Cooperate}  & \\text{Defect} \\\\\n",
    "\\text{Prisoner A} & \\text{Cooperate} & (3,3) & (0,5) \\\\\n",
    " & \\text{Defect} & (5,0) & (1,1) \\\\\n",
    "\\hline\n",
    "\\end{array}\n",
    "\\end{aligned}\n",
    "$$\n",
    "\n",
    "### Opponent's strategies\n",
    "Over time various deterministic strategies in the IPD game emerged. The ones that will be considered here are:\n",
    "* *Always cooperate*: always cooperate, indepentently of period or observed actions. If played against itself, it always receives an average reward of 3 in this setting.\n",
    "* *Always defect*:  This strategy is by definition unexploitable and will always have at least the same average reward as the opposing strategy.\n",
    "* *Random action*: As the name implies, this strategy plays a random action independent of period and observations. The probability to play a cooperation is here st to $0.5$.\n",
    "* *Tit-for-tat*: This strategy starts with a cooperation and copies the move of the opponent in the following periods.\n",
    "\n",
    "In the first three cases, the state space could be simplified to a single default state, as these strategies do not react to their observations and are therefore always in the same situation.  \n",
    "In the case of Tit-for-tat, two states would be sufficient, and they depend on whether a defection has been observed in the previous period or not.  \n",
    "However, as we assume the strategy of the opponent is not known to the player, the state space cannot be simplified and all 4 possible states must be considered.\n",
    "\n",
    "## Goal\n",
    "The questions this project tries to answer are: can a Q-Learning agent learn to play:\n",
    "* vs a deterministic strategy?\n",
    "* vs another Q-Learning agent?"
   ]
  },
  {
   "cell_type": "markdown",
   "metadata": {},
   "source": [
    "## Implementation"
   ]
  },
  {
   "cell_type": "markdown",
   "metadata": {},
   "source": [
    "First, import all needed classes and functions."
   ]
  },
  {
   "cell_type": "code",
   "execution_count": 1,
   "metadata": {},
   "outputs": [],
   "source": [
    "import pandas as pd\n",
    "import numpy as np\n",
    "import seaborn as sn\n",
    "import matplotlib.pyplot as plt\n",
    "from utils import Game, Meeting\n",
    "from strategy import Cooperate, Defect, Random, TitforTat, QLearning"
   ]
  },
  {
   "cell_type": "markdown",
   "metadata": {},
   "source": [
    "Let's define the payoff matrix, and the possible actions. We can instantiate a first game with them, and get the Nash equilibrium."
   ]
  },
  {
   "cell_type": "code",
   "execution_count": 2,
   "metadata": {},
   "outputs": [
    {
     "data": {
      "text/plain": [
       "[(1, 1)]"
      ]
     },
     "execution_count": 2,
     "metadata": {},
     "output_type": "execute_result"
    }
   ],
   "source": [
    "# define payoff matrix\n",
    "payoff =[[(3,3),(0,5)],[(5,0),(1,1)]]\n",
    "\n",
    "# initiate game with two possible actions: cooperate or defect\n",
    "# numeric action codes: [0,1]\n",
    "actions = [0,1] \n",
    "g = Game(payoff, actions)\n",
    "\n",
    "# returns a list of Nash equilibrium indexes\n",
    "g.getNash() "
   ]
  },
  {
   "cell_type": "markdown",
   "metadata": {},
   "source": [
    "As expected, the Nash equilibrium is to defect."
   ]
  },
  {
   "cell_type": "markdown",
   "metadata": {},
   "source": [
    "Let's see how the strategies play out. Remember that 0 = Cooperate, 1 = Defect."
   ]
  },
  {
   "cell_type": "code",
   "execution_count": 3,
   "metadata": {},
   "outputs": [
    {
     "name": "stdout",
     "output_type": "stream",
     "text": [
      "cooperate 0 0 0 0 0 0 0 0 0 0 0 0 0 0 0 0 0 0 0 0 \n",
      "\n",
      "defect 1 1 1 1 1 1 1 1 1 1 1 1 1 1 1 1 1 1 1 1 \n",
      "\n",
      "random 0 1 0 0 1 0 0 0 1 0 0 0 1 0 1 0 1 0 1 1 \n",
      "\n"
     ]
    }
   ],
   "source": [
    "# test action classes\n",
    "for strategy in [Cooperate(), Defect(), Random()]: \n",
    "    s1 = strategy\n",
    "    print(s1.name,end=\" \")\n",
    "    for i in range (0,20):\n",
    "        print(s1.get_action(i), end=' ')\n",
    "    print('\\n')"
   ]
  },
  {
   "cell_type": "markdown",
   "metadata": {},
   "source": [
    "To test Tit-for-Tat, we need an opponent, so we create a meeting. The player starts by cooperating, to then copy the opponent's previous action.  \n",
    "```pretty_print()``` reports the first (max 50) actions for each player and their scores. The score is the sum of the scores obtained on each game, according to the payoff matrix. The higher the better."
   ]
  },
  {
   "cell_type": "code",
   "execution_count": 4,
   "metadata": {},
   "outputs": [
    {
     "name": "stdout",
     "output_type": "stream",
     "text": [
      "TitforTat\t0 0 1 1 0 1 1 1 1 0 0 0 1 1 0 1 0 0 1 1 ... 0 0 1 1 0 1 1 1 1 0 0 0 1 1 0 1 0 0 1 1 = 43\n",
      "random\t0 1 1 0 1 1 1 1 0 0 0 1 1 0 1 0 0 1 1 0 ... 0 1 1 0 1 1 1 1 0 0 0 1 1 0 1 0 0 1 1 0 = 43\n"
     ]
    }
   ],
   "source": [
    "m = Meeting(g, TitforTat(), Random(), 20)\n",
    "m.run()\n",
    "m.pretty_print()"
   ]
  },
  {
   "cell_type": "markdown",
   "metadata": {},
   "source": [
    "We can also display the counter for how many times each player decided to cooperate."
   ]
  },
  {
   "cell_type": "code",
   "execution_count": 5,
   "metadata": {},
   "outputs": [
    {
     "name": "stdout",
     "output_type": "stream",
     "text": [
      "TitforTat\t0 1 1 1 1 1 1 1 1 1 1 1 1 1 1 1 1 1 1 1 1 1 1 1 1 ... 1 1 1 1 1 1 1 1 1 1 1 1 1 1 1 1 1 1 1 1 1 1 1 1 1 = 99\n",
      "defect\t1 1 1 1 1 1 1 1 1 1 1 1 1 1 1 1 1 1 1 1 1 1 1 1 1 ... 1 1 1 1 1 1 1 1 1 1 1 1 1 1 1 1 1 1 1 1 1 1 1 1 1 = 104\n",
      "\n",
      "Number of cooperations : \n",
      "TitforTat\t1\n",
      "defect\t0\n"
     ]
    }
   ],
   "source": [
    "s1 = TitforTat()\n",
    "s2 = Defect()\n",
    "m = Meeting(g, s1, s2, 100)\n",
    "m.run()\n",
    "m.pretty_print()\n",
    "\n",
    "print()\n",
    "print(\"Number of cooperations : \" )\n",
    "print (m.s1.name + \"\\t\" + str(m.num_cooperation_s1))\n",
    "print (m.s2.name + \"\\t\" + str(m.num_cooperation_s2))"
   ]
  },
  {
   "cell_type": "markdown",
   "metadata": {},
   "source": [
    "### All vs all"
   ]
  },
  {
   "cell_type": "markdown",
   "metadata": {},
   "source": [
    "Let's play every strategy against every opponent, counting the average reward per game of Player 1 against Player 2.  \n",
    "Again, each time the cell is ran the results can vary due to randomness, although the decision to run the same meeting multiple times to infer the results was made to reduce the effect."
   ]
  },
  {
   "cell_type": "code",
   "execution_count": 42,
   "metadata": {},
   "outputs": [],
   "source": [
    "payoff =[[(3,3),(0,5)],[(5,0),(1,1)]]\n",
    "actions = [0,1] \n",
    "g = Game(payoff, actions)\n",
    "\n",
    "strategies = [Cooperate(), Defect(), Random(), TitforTat(), QLearning()]\n",
    "avg_reward_table = []\n",
    "wins_table = []\n",
    "runs = 100\n",
    "games = 10000\n",
    "\n",
    "for player1 in strategies:\n",
    "    avg_reward = []\n",
    "    wins_percent = []\n",
    "    for player2 in strategies:\n",
    "        tot_reward = 0\n",
    "        tot_wins = 0\n",
    "        for i in range(runs):\n",
    "            s1 = player1\n",
    "            s2 = player2\n",
    "            m = Meeting(g, s1, s2, games)\n",
    "            m.run()\n",
    "            tot_reward += m.s1_score\n",
    "            if m.s1_score > m.s2_score:\n",
    "                tot_wins += 1\n",
    "        avg_reward.append(tot_reward/(runs*games))\n",
    "        wins_percent.append(tot_wins/runs)\n",
    "    avg_reward_table.append(avg_reward)\n",
    "    wins_table.append(wins_percent)"
   ]
  },
  {
   "cell_type": "code",
   "execution_count": 43,
   "metadata": {},
   "outputs": [
    {
     "data": {
      "image/png": "[encoded data removed]",
      "text/plain": [
       "<Figure size 864x576 with 2 Axes>"
      ]
     },
     "metadata": {
      "needs_background": "light"
     },
     "output_type": "display_data"
    }
   ],
   "source": [
    "df = pd.DataFrame(avg_reward_table, index = [s.name for s in strategies], columns = [s.name for s in strategies])\n",
    "\n",
    "plt.figure(figsize = (12,8))\n",
    "s = sn.heatmap(df, annot=True, cmap = 'RdBu')\n",
    "s.set(xlabel='PLAYER 2', ylabel='PLAYER 1', title=f'Average reward per game of Player 1 against Player 2');"
   ]
  },
  {
   "cell_type": "markdown",
   "metadata": {},
   "source": [
    "Each player's goal is to maximise their own reward.  \n",
    "As we can see from the table, always cooperating is the worst strategy, as it leads to the worst average results in most cases and, even in its best cases, the rewards are  only slightly above average.\n",
    "Second worse to Cooperate is Tit-for-Tat, which follows its same trend but with less extreme below-average results.  \n",
    "Like the Nash equilibrium suggested, the best bet is to always defect. That way, whichever action Player 2 chooses, Player 1's payoff will always be the highest possible. The obtained reward is, in $66\\%$ of cases, above average, and there is a possibility to obtain the highest payoff possible, which other strategies don't have.  \n",
    "\n",
    "To help answer the original questions, let's plot also the percentage of wins."
   ]
  },
  {
   "cell_type": "code",
   "execution_count": 41,
   "metadata": {},
   "outputs": [
    {
     "data": {
      "image/png": "[encoded data removed]",
      "text/plain": [
       "<Figure size 864x576 with 2 Axes>"
      ]
     },
     "metadata": {
      "needs_background": "light"
     },
     "output_type": "display_data"
    }
   ],
   "source": [
    "df = pd.DataFrame(wins_table, index = [s.name for s in strategies], columns = [s.name for s in strategies])\n",
    "\n",
    "plt.figure(figsize = (12,8))\n",
    "s = sn.heatmap(df, annot=True, cmap = 'RdBu')\n",
    "s.set(xlabel='PLAYER 2', ylabel='PLAYER 1', title=f'% wins of Player 1 against Player 2');"
   ]
  },
  {
   "cell_type": "markdown",
   "metadata": {},
   "source": [
    "### Q-learning"
   ]
  },
  {
   "cell_type": "markdown",
   "metadata": {},
   "source": [
    "Let's see if the Q-learning agent has learnt some strategies against the different opponents by exploring the resulting Q tables."
   ]
  },
  {
   "cell_type": "code",
   "execution_count": 31,
   "metadata": {},
   "outputs": [],
   "source": [
    "# how to read the Q table:\n",
    "# first as states:\n",
    "# [[I cooperate],         in each block:  \n",
    "#                         [[they cooperate],                   in each row, for action:\n",
    "#  [I defect   ]]         [they defect   ]]                    [next is cooperate, next is defect]"
   ]
  },
  {
   "cell_type": "code",
   "execution_count": 33,
   "metadata": {},
   "outputs": [
    {
     "name": "stdout",
     "output_type": "stream",
     "text": [
      "QLearning\t0 0 0 0 0 0 0 0 0 0 0 0 0 0 0 0 0 0 0 0 0 1 0 0 0 ... 1 1 1 1 1 0 0 0 0 0 0 0 0 0 0 0 0 0 0 0 0 0 0 0 0 = 80250\n",
      "cooperate\t0 0 0 0 0 0 0 0 0 0 0 0 0 0 0 0 0 0 0 0 0 0 0 0 0 ... 0 0 0 0 0 0 0 0 0 0 0 0 0 0 0 0 0 0 0 0 0 0 0 0 0 = 29625\n"
     ]
    },
    {
     "data": {
      "text/plain": [
       "array([[[49.70859129,  0.        ],\n",
       "        [ 0.        ,  0.        ]],\n",
       "\n",
       "       [[ 0.        , 86.74944696],\n",
       "        [ 0.        ,  0.        ]]])"
      ]
     },
     "execution_count": 33,
     "metadata": {},
     "output_type": "execute_result"
    }
   ],
   "source": [
    "s1 = QLearning()\n",
    "s2 = Cooperate()\n",
    "m = Meeting(g, s1, s2, 20000)\n",
    "m.run()\n",
    "m.pretty_print()\n",
    "m.s1.print_qtable()"
   ]
  },
  {
   "cell_type": "markdown",
   "metadata": {},
   "source": [
    "The RL agent gets a heavy win, as expected.  \n",
    "The Q table is updated only for instances when the opponent cooperates, as the agent has no occasions to explore the other states. The learnt strategy is basically to repeat my last action, so to cooperate if I cooperated earlier, and to defect otherwise. This is backed by the printed sequence: the agent repeats the same action for many games consecutively, until a randomized action doesn't kick in and changes the state."
   ]
  },
  {
   "cell_type": "code",
   "execution_count": 34,
   "metadata": {},
   "outputs": [
    {
     "name": "stdout",
     "output_type": "stream",
     "text": [
      "QLearning\t1 0 0 0 0 0 1 0 0 0 0 0 1 1 1 1 1 0 0 0 0 0 0 0 0 ... 1 1 1 1 1 1 1 1 1 1 1 1 1 1 1 1 1 1 1 1 1 1 1 1 1 = 10156\n",
      "defect\t1 1 1 1 1 1 1 1 1 1 1 1 1 1 1 1 1 1 1 1 1 1 1 1 1 ... 1 1 1 1 1 1 1 1 1 1 1 1 1 1 1 1 1 1 1 1 1 1 1 1 1 = 59376\n"
     ]
    },
    {
     "data": {
      "text/plain": [
       "array([[[ 0.3       ,  0.        ],\n",
       "        [ 8.65366722,  0.        ]],\n",
       "\n",
       "       [[ 0.        ,  0.        ],\n",
       "        [ 0.        , 10.47025546]]])"
      ]
     },
     "execution_count": 34,
     "metadata": {},
     "output_type": "execute_result"
    }
   ],
   "source": [
    "s1 = QLearning()\n",
    "s2 = Defect()\n",
    "m = Meeting(g, s1, s2, 20000)\n",
    "m.run()\n",
    "m.pretty_print()\n",
    "m.s1.print_qtable()"
   ]
  },
  {
   "cell_type": "markdown",
   "metadata": {},
   "source": [
    "The Q-learner loses drastically to the defecting opponent, as predicted from the table above.  CHECK FIRST UPDATE"
   ]
  },
  {
   "cell_type": "code",
   "execution_count": 35,
   "metadata": {},
   "outputs": [
    {
     "name": "stdout",
     "output_type": "stream",
     "text": [
      "QLearning\t0 0 0 0 0 0 1 0 0 0 0 0 0 0 0 0 0 0 0 0 0 1 0 0 0 ... 1 1 1 1 1 1 1 1 1 1 1 1 0 0 0 0 0 0 0 0 0 0 0 0 0 = 45242\n",
      "random\t0 1 1 1 1 0 0 0 0 0 1 0 0 0 0 1 0 1 1 1 1 0 0 0 0 ... 1 0 0 0 0 1 0 1 0 1 0 0 1 1 1 1 0 1 1 1 0 0 1 0 0 = 43992\n"
     ]
    },
    {
     "data": {
      "text/plain": [
       "array([[[28.71320167,  0.        ],\n",
       "        [40.44785564,  0.        ]],\n",
       "\n",
       "       [[ 0.        , 47.06017149],\n",
       "        [ 0.        , 50.8137304 ]]])"
      ]
     },
     "execution_count": 35,
     "metadata": {},
     "output_type": "execute_result"
    }
   ],
   "source": [
    "s1 = QLearning()\n",
    "s2 = Random()\n",
    "m = Meeting(g, s1, s2, 20000)\n",
    "m.run()\n",
    "m.pretty_print()\n",
    "m.s1.print_qtable()"
   ]
  },
  {
   "cell_type": "code",
   "execution_count": 36,
   "metadata": {},
   "outputs": [
    {
     "name": "stdout",
     "output_type": "stream",
     "text": [
      "QLearning\t1 0 0 0 0 0 0 0 0 0 0 0 0 0 1 1 0 0 0 0 1 1 0 0 0 ... 1 1 1 1 1 1 1 0 0 0 0 0 0 0 0 0 0 0 0 0 0 1 0 0 0 = 40364\n",
      "TitforTat\t0 1 0 0 0 0 0 0 0 0 0 0 0 0 0 1 1 0 0 0 0 1 1 0 0 ... 1 1 1 1 1 1 1 1 0 0 0 0 0 0 0 0 0 0 0 0 0 0 1 0 0 = 40364\n"
     ]
    },
    {
     "data": {
      "text/plain": [
       "array([[[31.67689461,  0.        ],\n",
       "        [45.93718164,  0.        ]],\n",
       "\n",
       "       [[ 0.        , 38.06001446],\n",
       "        [ 0.        , 34.40022303]]])"
      ]
     },
     "execution_count": 36,
     "metadata": {},
     "output_type": "execute_result"
    }
   ],
   "source": [
    "s1 = QLearning()\n",
    "s2 = TitforTat()\n",
    "m = Meeting(g, s1, s2, 20000)\n",
    "m.run()\n",
    "m.pretty_print()\n",
    "m.s1.print_qtable()"
   ]
  },
  {
   "cell_type": "code",
   "execution_count": 37,
   "metadata": {},
   "outputs": [
    {
     "name": "stdout",
     "output_type": "stream",
     "text": [
      "QLearning\t0 0 0 0 0 0 0 0 1 0 0 0 0 1 1 0 0 0 0 0 0 0 0 0 0 ... 1 1 1 1 1 1 1 1 1 1 1 1 1 1 0 0 0 0 0 0 0 1 1 1 1 = 45228\n",
      "QLearning\t0 0 1 0 0 0 1 1 0 0 0 0 0 0 1 0 0 0 0 0 0 0 0 0 0 ... 0 0 0 0 0 0 0 0 0 0 0 0 0 0 0 0 0 0 0 0 0 0 0 0 0 = 45958\n"
     ]
    },
    {
     "data": {
      "text/plain": [
       "array([[[50.71943028,  0.        ],\n",
       "        [36.98593753,  0.        ]],\n",
       "\n",
       "       [[ 0.        , 43.95374157],\n",
       "        [ 0.        , 47.45683384]]])"
      ]
     },
     "execution_count": 37,
     "metadata": {},
     "output_type": "execute_result"
    }
   ],
   "source": [
    "s1 = QLearning()\n",
    "s2 = QLearning()\n",
    "m = Meeting(g, s1, s2, 20000)\n",
    "m.run()\n",
    "m.pretty_print()\n",
    "m.s1.print_qtable()"
   ]
  },
  {
   "cell_type": "markdown",
   "metadata": {},
   "source": [
    "With all these past four strategies, the player learns to, whatever the opponent does, repeat their last action. Again, this changes only if a randomised action comes into play. As we're using a decaying $\\varepsilon$-greedy policy, this happens less and less frequently as the games go on.  \n",
    "\n",
    "However, by looking closer at the Q values,  POSSO CONCLUDERE CHE LA COSA MIGLIORE E DEFECT SE IL VALORE PIU ALTO IN TUTTA LA Q TABLE E QUELLO?? no"
   ]
  },
  {
   "cell_type": "markdown",
   "metadata": {},
   "source": [
    "### ANSWER: Can a Q-learning agent learn to play against a deterministic strategy? And against another RL agent?\n",
    "\n",
    "The RL agent is able to learn to   "
   ]
  }
 ],
 "metadata": {
  "kernelspec": {
   "display_name": "Python 3.9.7 ('base')",
   "language": "python",
   "name": "python3"
  },
  "language_info": {
   "codemirror_mode": {
    "name": "ipython",
    "version": 3
   },
   "file_extension": ".py",
   "mimetype": "text/x-python",
   "name": "python",
   "nbconvert_exporter": "python",
   "pygments_lexer": "ipython3",
   "version": "3.9.7"
  },
  "orig_nbformat": 4,
  "vscode": {
   "interpreter": {
    "hash": "4e94127da5e596dc8d6210f9f94bfee13570c6bfd49eef8a896a40dfe8eb2aa6"
   }
  }
 },
 "nbformat": 4,
 "nbformat_minor": 2
}
