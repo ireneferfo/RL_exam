{
 "cells": [
  {
   "cell_type": "markdown",
   "metadata": {},
   "source": [
    "# Iterated Prisoner's Dilemma"
   ]
  },
  {
   "cell_type": "markdown",
   "metadata": {},
   "source": [
    "## The problem\n",
    "The Prisoner's dilemma is an example of a game that shows why two rational individuals might not cooperate, even if it appears in their best interest to do so.  \n",
    "The example cites as follows:  \n",
    "\"Two members of a criminal gang are arrested and imprisoned. Each prisoner is in solitary confinement with no means of speaking to or exchanging messages with the other. The police admit they don't have enough evidence to convict the pair on the principal charge. They plan to sentence both to a year in prison on a lesser charge. Simultaneously, the police offer each prisoner a Faustian bargain.\" ([cit](https://www.worldcat.org/title/prisoners-dilemma/oclc/23383657))\n",
    "\n",
    "Each player A and B has two actions: cooperate (C) with the other prisoner or defect (D), giving them up to the autorities. Both players decide on their action without knowing the action of the other player.\n",
    "\n",
    "In the following matrix, the values $(A_{i,j},B_{i,j})$ refer to the payoff A and B, respectively, would get in the case A chose action $i$ and B chose action $j$, where $i,j \\in \\{ \\text{cooperate}, \\text{defect}\\}$. \n",
    "\n",
    "$$\n",
    "\\begin{aligned}\n",
    "& \\text {Payoff matrix }\\\\\n",
    "&\\begin{array}{cccc}\n",
    "\\hline \\hline  &  & \\qquad \\text{Prisoner B} \\\\\n",
    " &  & \\text{Cooperate}  & \\text{Defect} \\\\\n",
    "\\text{Prisoner A} & \\text{Cooperate} & (R,R) & (S,T) \\\\\n",
    " & \\text{Defect} & (T,S) & (P,P) \\\\\n",
    "\\hline\n",
    "\\end{array}\n",
    "\\end{aligned}\n",
    "$$\n",
    "This table defines a Prisoner’s Dilemma game if $T > R > P > S$ and $2R > S + T$. This way, the dilemma unfolds: For each player it is individually beneficial to defect, irrespective of the choice of his opponent. The highest mutual payoff, however, is generated when both players cooperate.\n",
    "\n",
    "It is assumed that both prisoners understand the nature of the game, have no loyalty to each other, and will have no opportunity for retribution or reward outside the game. \n",
    "\n",
    "### Iterated version\n",
    "If two players play the game more than once in succession and they remember previous actions of their opponent and change their strategy accordingly, the game is called Iterated Prisoner's Dilemma (IPD).  \n",
    "After each game, each player observes both the previous action of their opponent and their own previous action.\n",
    "\n",
    "## Formalisation\n",
    "The prisoner's dilemma is a 2-player Matrix game, has only four states and two choices of actions. Since the reward (payoff) for a given action depends also on the actions of the other player, it is an adversarial bandits problem.  \n",
    "The four states consist of all possible combinations of actions for (A's previous action, B's previous action): $(C,C), (C,D), (D,C), (D,D)$. However, this setting can be simplified in some cases presented later.\n",
    "\n",
    "At each time $t$, the player simultaneously choose their actions. The rewards depend on both actions, and they can be written as the payoff matrix reported above.  \n",
    "\n",
    "Considering the set of possible actions, if for any pair no individual player can benefit by changing its individual strategy, then that's a Nash equilibrium.\n",
    "There has been [research](https://www.pnas.org/doi/10.1073/pnas.1206569109) showing that only one single previous state is needed, in order to define any prisoner’s dilemma strategy.\n",
    "\n",
    "### Q-Learning \n",
    "One agent learns the value function via Q-learning, a reinforcement learning technique developed in $1989$ that iteratively updates expected cumulative discounted reward $Q$ given a state $s$, and a future action $a$ (from [Sutton and Barto](http://incompleteideas.net/book/the-book-2nd.html)):  \n",
    "<img src=\"Qlearning.png\" width=\"500\">\n",
    "\n",
    "\n",
    "The action gets chosen by default using a non-decaying $\\varepsilon$-greedy policy, that is, \n",
    "$$A_t = \\begin{cases} \\max_a Q(A_t) \\quad \\text{with probability } 1- \\varepsilon \\\\ \\text{random action} \\quad \\text{with probability }\\varepsilon \\end{cases}$$\n",
    "\n",
    "As the update rule does not depend on the current exploration but on the assumed optimal choice, Q-Learning does not require the current policy to converge towards the optimal policy, therefore doesn't *need* the decaying $\\varepsilon$. Q-learning is able to generate an optimal policy even using only uniformly random actions, given sufficient iterations. However, the decay can be set as a parameter when instantiating the player.\n",
    "\n",
    "The parameters used will be:\n",
    "* The values $R = 3$, $S = 0$, $T =5$, $P=1$ for the payoff matrix\n",
    "* a discount factor $\\gamma = 0.95$\n",
    "* a decaying learning rate $\\alpha_t = \\frac{1}{t+1}$\n",
    "* an epsilon $\\varepsilon = 0.2$. If a decay is set, the reachable minimum is set to $\\varepsilon = 0.1$\n",
    "\n",
    "The payoff matrix is\n",
    "$$\n",
    "\\begin{aligned}\n",
    "& \\text {Payoff matrix }\\\\\n",
    "&\\begin{array}{cccc}\n",
    "\\hline \\hline  &  & \\qquad \\text{Prisoner B} \\\\\n",
    " &  & \\text{Cooperate}  & \\text{Defect} \\\\\n",
    "\\text{Prisoner A} & \\text{Cooperate} & (3,3) & (0,5) \\\\\n",
    " & \\text{Defect} & (5,0) & (1,1) \\\\\n",
    "\\hline\n",
    "\\end{array}\n",
    "\\end{aligned}\n",
    "$$\n",
    "\n",
    "### Opponent's strategies\n",
    "Over time various deterministic strategies in the IPD game emerged. The ones that will be considered here are:\n",
    "* *Always cooperate*: always cooperate, indepentently of period or observed actions. If played against itself, it always receives an average reward of 3 in this setting.\n",
    "* *Always defect*:  This strategy is by definition unexploitable and will always have at least the same average reward as the opposing strategy.\n",
    "* *Random action*: As the name implies, this strategy plays a random action independent of period and observations. The probability to play a cooperation is here st to $0.5$.\n",
    "* *Tit-for-tat*: This strategy starts with a cooperation and copies the move of the opponent in the following periods.\n",
    "\n",
    "In the first three cases, the state space seen by the opponent could be simplified to a single default state, as these strategies do not react to their observations and are therefore always in the same situation.  \n",
    "In the case of Tit-for-tat, two states would be sufficient, and they depend on whether a defection has been observed in the previous period or not.  \n",
    "However, as we assume the strategy of the opponent is not known to the player, the state space cannot be simplified and all 4 possible states must be considered.\n",
    "\n",
    "## Goal\n",
    "The questions this project tries to answer are: can a Q-Learning agent learn to play:\n",
    "* vs a deterministic strategy?\n",
    "* vs another Q-Learning agent?"
   ]
  },
  {
   "cell_type": "markdown",
   "metadata": {},
   "source": [
    "## Implementation"
   ]
  },
  {
   "cell_type": "markdown",
   "metadata": {},
   "source": [
    "First, import all needed classes and functions."
   ]
  },
  {
   "cell_type": "code",
   "execution_count": 1,
   "metadata": {},
   "outputs": [],
   "source": [
    "import pandas as pd\n",
    "import numpy as np\n",
    "import seaborn as sn\n",
    "import matplotlib.pyplot as plt\n",
    "from utils import Game, Meeting\n",
    "from strategy import Cooperate, Defect, Random, TitforTat, QLearning"
   ]
  },
  {
   "cell_type": "markdown",
   "metadata": {},
   "source": [
    "Let's define the payoff matrix, and the possible actions. We can instantiate a first game with them, and get the Nash equilibrium."
   ]
  },
  {
   "cell_type": "code",
   "execution_count": 2,
   "metadata": {},
   "outputs": [
    {
     "data": {
      "text/plain": [
       "[(1, 1)]"
      ]
     },
     "execution_count": 2,
     "metadata": {},
     "output_type": "execute_result"
    }
   ],
   "source": [
    "# define payoff matrix\n",
    "payoff =[[(3,3),(0,5)],[(5,0),(1,1)]]\n",
    "\n",
    "# initiate game with two possible actions: cooperate or defect\n",
    "# numeric action codes: [0,1]\n",
    "actions = [0,1] \n",
    "g = Game(payoff, actions)\n",
    "\n",
    "# returns a list of Nash equilibrium indexes\n",
    "g.getNash() "
   ]
  },
  {
   "cell_type": "markdown",
   "metadata": {},
   "source": [
    "As expected, the Nash equilibrium is to defect."
   ]
  },
  {
   "cell_type": "markdown",
   "metadata": {},
   "source": [
    "Let's see how the strategies play out. Remember that 0 = Cooperate, 1 = Defect."
   ]
  },
  {
   "cell_type": "code",
   "execution_count": 3,
   "metadata": {},
   "outputs": [
    {
     "name": "stdout",
     "output_type": "stream",
     "text": [
      "cooperate 0 0 0 0 0 0 0 0 0 0 0 0 0 0 0 0 0 0 0 0 \n",
      "\n",
      "defect 1 1 1 1 1 1 1 1 1 1 1 1 1 1 1 1 1 1 1 1 \n",
      "\n",
      "random 0 1 0 1 1 0 0 1 0 0 0 1 0 1 1 0 1 1 0 1 \n",
      "\n"
     ]
    }
   ],
   "source": [
    "# test action classes\n",
    "for strategy in [Cooperate(), Defect(), Random()]: \n",
    "    s1 = strategy\n",
    "    print(s1.name,end=\" \")\n",
    "    for i in range (0,20):\n",
    "        print(s1.get_action(i), end=' ')\n",
    "    print('\\n')"
   ]
  },
  {
   "cell_type": "markdown",
   "metadata": {},
   "source": [
    "To test Tit-for-Tat, we need an opponent, so we create a meeting. The player starts by cooperating, to then copy the opponent's previous action.  \n",
    "```pretty_print()``` reports the first (max 50) actions for each player and their scores. The score is the sum of the scores obtained on each game, according to the payoff matrix. The higher the better."
   ]
  },
  {
   "cell_type": "code",
   "execution_count": 4,
   "metadata": {},
   "outputs": [
    {
     "name": "stdout",
     "output_type": "stream",
     "text": [
      "TitforTat\t0 0 0 0 1 1 1 1 0 1 0 1 1 1 1 1 0 1 1 1 ... 0 0 0 0 1 1 1 1 0 1 0 1 1 1 1 1 0 1 1 1 = 34\n",
      "random\t0 0 0 1 1 1 1 0 1 0 1 1 1 1 1 0 1 1 1 1 ... 0 0 0 1 1 1 1 0 1 0 1 1 1 1 1 0 1 1 1 1 = 39\n"
     ]
    }
   ],
   "source": [
    "m = Meeting(g, TitforTat(), Random(), 20)\n",
    "m.run()\n",
    "m.pretty_print()"
   ]
  },
  {
   "cell_type": "markdown",
   "metadata": {},
   "source": [
    "We can also display the counter for how many times each player decided to cooperate."
   ]
  },
  {
   "cell_type": "code",
   "execution_count": 5,
   "metadata": {},
   "outputs": [
    {
     "name": "stdout",
     "output_type": "stream",
     "text": [
      "TitforTat\t0 1 1 1 1 1 1 1 1 1 1 1 1 1 1 1 1 1 1 1 1 1 1 1 1 ... 1 1 1 1 1 1 1 1 1 1 1 1 1 1 1 1 1 1 1 1 1 1 1 1 1 = 99\n",
      "defect\t1 1 1 1 1 1 1 1 1 1 1 1 1 1 1 1 1 1 1 1 1 1 1 1 1 ... 1 1 1 1 1 1 1 1 1 1 1 1 1 1 1 1 1 1 1 1 1 1 1 1 1 = 104\n",
      "\n",
      "Number of cooperations : \n",
      "TitforTat\t1\n",
      "defect\t0\n"
     ]
    }
   ],
   "source": [
    "s1 = TitforTat()\n",
    "s2 = Defect()\n",
    "m = Meeting(g, s1, s2, 100)\n",
    "m.run()\n",
    "m.pretty_print()\n",
    "\n",
    "print()\n",
    "print(\"Number of cooperations : \" )\n",
    "print (m.s1.name + \"\\t\" + str(m.num_cooperation_s1))\n",
    "print (m.s2.name + \"\\t\" + str(m.num_cooperation_s2))"
   ]
  },
  {
   "cell_type": "markdown",
   "metadata": {},
   "source": [
    "### All vs all"
   ]
  },
  {
   "cell_type": "markdown",
   "metadata": {},
   "source": [
    "Let's play every strategy against every opponent, counting the average reward per game of Player 1 against Player 2.  \n",
    "Again, each time the cell is ran the results can vary due to randomness, although the decision to run the same meeting multiple times to infer the results was made to reduce the effect.\n",
    "\n",
    "For the Q-learner, a few different combinations of parameters are tried."
   ]
  },
  {
   "cell_type": "code",
   "execution_count": 6,
   "metadata": {},
   "outputs": [],
   "source": [
    "payoff =[[(3,3),(0,5)],[(5,0),(1,1)]]\n",
    "actions = [0,1] \n",
    "g = Game(payoff, actions)\n",
    "\n",
    "strategies = [Cooperate(), Defect(), Random(), TitforTat(), QLearning(epsilon = 0.2), QLearning(epsilon = 0.5), QLearning(epsilon=0.5, decay = 0.999)]\n",
    "avg_reward_table = []\n",
    "wins_table = []\n",
    "runs = 100\n",
    "games = 10000\n",
    "\n",
    "for player1 in strategies:\n",
    "    avg_reward = []\n",
    "    wins_percent = []\n",
    "    for player2 in strategies:\n",
    "        tot_reward = 0\n",
    "        tot_wins = 0\n",
    "        for i in range(runs):\n",
    "            s1 = player1\n",
    "            s2 = player2\n",
    "            m = Meeting(g, s1, s2, games)\n",
    "            m.run()\n",
    "            tot_reward += m.s1_score\n",
    "            if m.s1_score > m.s2_score:\n",
    "                tot_wins += 1\n",
    "        avg_reward.append(tot_reward/(runs*games))\n",
    "        wins_percent.append(tot_wins/runs)\n",
    "    avg_reward_table.append(avg_reward)\n",
    "    wins_table.append(wins_percent)"
   ]
  },
  {
   "cell_type": "code",
   "execution_count": 7,
   "metadata": {},
   "outputs": [
    {
     "data": {
      "image/png": "[encoded data removed]",
      "text/plain": [
       "<Figure size 864x576 with 2 Axes>"
      ]
     },
     "metadata": {
      "needs_background": "light"
     },
     "output_type": "display_data"
    }
   ],
   "source": [
    "df = pd.DataFrame(avg_reward_table, index = [s.name for s in strategies], columns = [s.name for s in strategies])\n",
    "\n",
    "plt.figure(figsize = (12,8))\n",
    "s = sn.heatmap(df, annot=True, cmap = 'RdBu', fmt = '.4g')\n",
    "s.set(xlabel='PLAYER 2', ylabel='PLAYER 1', title=f'Average reward per game of Player 1 against Player 2');"
   ]
  },
  {
   "cell_type": "markdown",
   "metadata": {},
   "source": [
    "Each player's goal is to maximise their own reward.  \n",
    "As we can see from the table, always cooperating is the worst strategy, as it leads to the worst average results in most cases and, even in its best cases, the rewards are  only slightly above average.\n",
    "Second worse to Cooperate is Tit-for-Tat, which follows its same trend but with less extreme below-average results.  \n",
    "Like the Nash equilibrium suggested, the best bet is to always defect. That way, whichever action Player 2 chooses, Player 1's payoff will always be the highest possible. The obtained reward is, in $66\\%$ of cases, above average, and there is a possibility to obtain the highest payoff possible, which other strategies don't have.  \n",
    "\n",
    "Let's look at the Q-learners' results. They all perform very similarly in most cases, except when facing Tit-for-Tat, in which case a higher exploration is slightly preferred.\n",
    "\n",
    "To help answer the original questions, let's plot the percentage of wins, too."
   ]
  },
  {
   "cell_type": "code",
   "execution_count": 8,
   "metadata": {},
   "outputs": [
    {
     "data": {
      "image/png": "[encoded data removed]",
      "text/plain": [
       "<Figure size 864x576 with 2 Axes>"
      ]
     },
     "metadata": {
      "needs_background": "light"
     },
     "output_type": "display_data"
    }
   ],
   "source": [
    "df = pd.DataFrame(wins_table, index = [s.name for s in strategies], columns = [s.name for s in strategies])\n",
    "\n",
    "plt.figure(figsize = (12,8))\n",
    "s = sn.heatmap(df, annot=True, cmap = 'RdBu', fmt = '.4g')\n",
    "s.set(xlabel='PLAYER 2', ylabel='PLAYER 1', title=f'% wins of Player 1 against Player 2');"
   ]
  },
  {
   "cell_type": "markdown",
   "metadata": {},
   "source": [
    "However, a higher starting exploration percentage and the introduction of decay produce more wins. This doesn't affect the performance evaluation of the players, as the aim is highest reward, but it is still interesting to see."
   ]
  },
  {
   "cell_type": "markdown",
   "metadata": {},
   "source": [
    "## Answers\n",
    "\n",
    "Let's see if the Q-learning agent has learnt some strategies against the different opponents by exploring the resulting Q tables and history of actions. It's parameters will be set to the ones that got the highest average reward in the previous table."
   ]
  },
  {
   "cell_type": "markdown",
   "metadata": {},
   "source": [
    "### Can a Q-learning agent learn to play against a deterministic strategy?"
   ]
  },
  {
   "cell_type": "code",
   "execution_count": 9,
   "metadata": {},
   "outputs": [],
   "source": [
    "# how to read the Q table:\n",
    "# first as states:\n",
    "# [[I cooperate],         in each block:  \n",
    "#                         [[they cooperate],                   in each row, for action:\n",
    "#  [I defect   ]]         [they defect   ]]                    [next is cooperate, next is defect]"
   ]
  },
  {
   "cell_type": "code",
   "execution_count": 10,
   "metadata": {},
   "outputs": [
    {
     "name": "stdout",
     "output_type": "stream",
     "text": [
      "QLearning -e: 0.2 -dec: 1\t1 0 0 0 0 0 0 0 1 1 1 1 1 0 0 0 0 0 0 0 1 1 1 1 1 ... 1 1 1 1 1 0 0 0 0 0 0 0 0 0 1 1 1 1 1 1 1 1 1 1 1 = 200536\n",
      "cooperate\t0 0 0 0 0 0 0 0 0 0 0 0 0 0 0 0 0 0 0 0 0 0 0 0 0 ... 0 0 0 0 0 0 0 0 0 0 0 0 0 0 0 0 0 0 0 0 0 0 0 0 0 = 74196\n"
     ]
    },
    {
     "data": {
      "text/plain": [
       "array([[[18.78393106,  0.        ],\n",
       "        [ 0.        ,  0.        ]],\n",
       "\n",
       "       [[ 0.        , 22.51756818],\n",
       "        [ 0.        ,  0.        ]]])"
      ]
     },
     "execution_count": 10,
     "metadata": {},
     "output_type": "execute_result"
    }
   ],
   "source": [
    "s1 = QLearning()\n",
    "s2 = Cooperate()\n",
    "m = Meeting(g, s1, s2, 50000)\n",
    "m.run()\n",
    "m.pretty_print()\n",
    "m.s1.print_qtable()"
   ]
  },
  {
   "cell_type": "markdown",
   "metadata": {},
   "source": [
    "The RL agent gets a heavy win, as expected.  \n",
    "The Q table is updated only for instances when the opponent cooperates, as the agent has no occasions to explore the other states. The learnt strategy is basically to repeat my last action, so to cooperate if I cooperated earlier, and to defect otherwise. This is backed by the printed sequence: the agent repeats the same action for many games consecutively, until a randomized action doesn't kick in and change the state.  \n",
    "However, the Q-learner should have learnt to always betray the opponent, in order to maximise its own win. This fails to happen."
   ]
  },
  {
   "cell_type": "code",
   "execution_count": 11,
   "metadata": {},
   "outputs": [
    {
     "name": "stdout",
     "output_type": "stream",
     "text": [
      "QLearning -e: 0.2 -dec: 1\t1 0 0 0 0 0 0 0 0 0 0 0 0 0 0 0 0 0 0 0 0 0 0 0 0 ... 1 1 1 1 1 1 1 1 1 1 0 0 0 0 0 0 0 1 1 1 1 1 1 1 1 = 25217\n",
      "defect\t1 1 1 1 1 1 1 1 1 1 1 1 1 1 1 1 1 1 1 1 1 1 1 1 1 ... 1 1 1 1 1 1 1 1 1 1 1 1 1 1 1 1 1 1 1 1 1 1 1 1 1 = 149132\n"
     ]
    }
   ],
   "source": [
    "s1 = QLearning()\n",
    "s2 = Defect()\n",
    "m = Meeting(g, s1, s2, 50000)\n",
    "m.run()\n",
    "m.pretty_print()\n",
    "# m.s1.print_qtable()"
   ]
  },
  {
   "cell_type": "markdown",
   "metadata": {},
   "source": [
    "The Q-learner loses drastically to the defecting opponent, as predicted from the table above. Again, the states that include a cooperation from the opponent are not explored, for clear reasons.  \n",
    "In this case, the agent only option was to learn to always defect as well, and aim for a tie. This, again, fails to happen."
   ]
  },
  {
   "cell_type": "code",
   "execution_count": 12,
   "metadata": {},
   "outputs": [
    {
     "name": "stdout",
     "output_type": "stream",
     "text": [
      "QLearning -e: 0.5 -dec: 0.999\t1 1 1 1 0 0 0 1 0 0 0 0 1 1 1 1 1 1 1 1 1 1 0 0 0 ... 1 1 1 1 1 0 0 0 0 1 1 1 1 1 1 1 1 1 1 1 1 1 1 1 1 = 113680\n",
      "random\t0 0 0 1 1 1 0 1 1 1 0 1 0 0 0 0 0 1 0 1 0 0 1 0 0 ... 1 0 1 0 0 0 0 1 0 0 1 1 0 1 0 1 1 1 0 1 1 1 0 1 1 = 110345\n"
     ]
    },
    {
     "data": {
      "text/plain": [
       "array([[[6.32670874, 0.        ],\n",
       "        [6.07749605, 0.        ]],\n",
       "\n",
       "       [[0.        , 7.99085444],\n",
       "        [0.        , 7.41779522]]])"
      ]
     },
     "execution_count": 12,
     "metadata": {},
     "output_type": "execute_result"
    }
   ],
   "source": [
    "s1 = QLearning(epsilon = 0.5, decay = 0.999)\n",
    "s2 = Random()\n",
    "m = Meeting(g, s1, s2, 50000)\n",
    "m.run()\n",
    "m.pretty_print()\n",
    "m.s1.print_qtable()"
   ]
  },
  {
   "cell_type": "code",
   "execution_count": 13,
   "metadata": {},
   "outputs": [
    {
     "name": "stdout",
     "output_type": "stream",
     "text": [
      "QLearning -e: 0.5 -dec: 1\t0 0 0 0 1 1 1 1 1 0 0 0 0 1 0 0 0 1 1 1 1 1 0 0 1 ... 0 0 0 0 0 0 0 0 1 1 1 1 1 0 0 0 0 1 0 0 0 0 0 0 0 = 106053\n",
      "TitforTat\t0 0 0 0 0 1 1 1 1 1 0 0 0 0 1 0 0 0 1 1 1 1 1 0 0 ... 0 0 0 0 0 0 0 0 0 1 1 1 1 1 0 0 0 0 1 0 0 0 0 0 0 = 106053\n"
     ]
    },
    {
     "data": {
      "text/plain": [
       "array([[[10.16131581,  0.        ],\n",
       "        [ 6.68928793,  0.        ]],\n",
       "\n",
       "       [[ 0.        ,  2.27988102],\n",
       "        [ 0.        ,  3.83947348]]])"
      ]
     },
     "execution_count": 13,
     "metadata": {},
     "output_type": "execute_result"
    }
   ],
   "source": [
    "s1 = QLearning(epsilon = 0.5)\n",
    "s2 = TitforTat()\n",
    "m = Meeting(g, s1, s2, 50000)\n",
    "m.run()\n",
    "m.pretty_print()\n",
    "m.s1.print_qtable()"
   ]
  },
  {
   "cell_type": "markdown",
   "metadata": {},
   "source": [
    "With these past two strategies, ```Random()``` and ```TitforTat()```, the player learns to, whatever the opponent does, repeat their own last action. Again, this changes only if a randomised action comes into play. \n",
    "\n",
    "As Tit-for-Tat is a strategy which is not aimed at winning but at a tie, the RL agent always ends up with a tie or with a win by a very small margin.  \n",
    "Instead, with the opponent playing a random action at each game, the results have more variance, with the RL agent balancing more or less half wins and half losses, but all with a relatively small margin as far as rewards. \n",
    "\n",
    "As anticipated by the table above, the RL agent wins a higher reward when playing against a random opponent, rather than Tit-for-Tat. The best case happens when the opponent cooperates, and the worst when it defects."
   ]
  },
  {
   "cell_type": "markdown",
   "metadata": {},
   "source": [
    "In conclusion, generally a Q-learner cannot be said to be a *good* player in the Prisoner's dilemma if the opponent plays a deterministic strategy, as in most cases gets an average reward, comparable to the one it would get playing randomly."
   ]
  },
  {
   "cell_type": "markdown",
   "metadata": {},
   "source": [
    "### Can a Q-learning agent learn to play against another Q-learning agent?\n",
    "\n",
    "Using the default values, as there ins't much variation in performance as far as average reward."
   ]
  },
  {
   "cell_type": "code",
   "execution_count": 14,
   "metadata": {},
   "outputs": [
    {
     "name": "stdout",
     "output_type": "stream",
     "text": [
      "QLearning -e: 0.2 -dec: 1\t0 1 0 0 0 0 0 0 0 1 1 1 1 1 1 1 1 1 1 1 1 0 0 0 0 ... 1 1 1 0 0 0 1 1 0 0 0 0 0 0 0 0 0 0 0 0 0 0 0 0 0 = 112681\n",
      "QLearning -e: 0.2 -dec: 1\t0 0 0 0 0 1 0 0 0 0 0 0 0 0 0 0 0 0 0 0 1 0 0 0 0 ... 1 0 0 0 0 0 0 0 0 0 0 0 0 0 0 0 0 0 0 0 0 0 0 0 0 = 110831\n"
     ]
    },
    {
     "data": {
      "text/plain": [
       "array([[[ 9.23893577,  0.        ],\n",
       "        [ 2.6437609 ,  0.        ]],\n",
       "\n",
       "       [[ 0.        , 12.43299911],\n",
       "        [ 0.        ,  3.71888554]]])"
      ]
     },
     "execution_count": 14,
     "metadata": {},
     "output_type": "execute_result"
    }
   ],
   "source": [
    "s1 = QLearning()\n",
    "s2 = QLearning()\n",
    "m = Meeting(g, s1, s2, 50000)\n",
    "m.run()\n",
    "m.pretty_print()\n",
    "m.s1.print_qtable()\n"
   ]
  },
  {
   "cell_type": "code",
   "execution_count": 15,
   "metadata": {},
   "outputs": [
    {
     "data": {
      "text/plain": [
       "array([[[7.5879374 , 0.        ],\n",
       "        [2.54844525, 0.        ]],\n",
       "\n",
       "       [[0.        , 8.55637876],\n",
       "        [0.        , 3.07214972]]])"
      ]
     },
     "execution_count": 15,
     "metadata": {},
     "output_type": "execute_result"
    }
   ],
   "source": [
    "m.s2.print_qtable()"
   ]
  },
  {
   "cell_type": "markdown",
   "metadata": {},
   "source": [
    "The two Q-learners learn a similar Q table, but fail to learn to cooperate to maximise both the rewards.  \n",
    "In fact, their rewards are similar to what they would have gotten playing against a Random opponent, or even to what to two random opponents would have gotten playing agaist each other:"
   ]
  },
  {
   "cell_type": "code",
   "execution_count": 16,
   "metadata": {},
   "outputs": [
    {
     "name": "stdout",
     "output_type": "stream",
     "text": [
      "random\t1 0 1 1 0 0 1 0 1 1 0 1 0 0 0 1 0 0 0 1 1 0 0 0 1 ... 1 1 1 1 1 0 0 0 0 0 0 0 0 1 0 1 1 0 1 1 0 0 1 0 1 = 112698\n",
      "random\t0 0 0 1 1 0 1 1 0 1 1 1 1 1 0 0 0 0 0 0 0 0 1 0 1 ... 1 0 0 0 1 1 0 1 1 0 0 0 1 1 1 1 1 0 0 0 1 0 0 1 0 = 111653\n"
     ]
    }
   ],
   "source": [
    "s1 = Random()\n",
    "s2 = Random()\n",
    "m = Meeting(g, s1, s2, 50000)\n",
    "m.run()\n",
    "m.pretty_print()"
   ]
  },
  {
   "cell_type": "markdown",
   "metadata": {},
   "source": [
    "In closing, a Q-learning agent can be fully compared to an agent that plays a random action. This cannot be considered a good result, as the same outcome can be obtained with much less complexity and memory."
   ]
  }
 ],
 "metadata": {
  "kernelspec": {
   "display_name": "Python 3.9.7 ('base')",
   "language": "python",
   "name": "python3"
  },
  "language_info": {
   "codemirror_mode": {
    "name": "ipython",
    "version": 3
   },
   "file_extension": ".py",
   "mimetype": "text/x-python",
   "name": "python",
   "nbconvert_exporter": "python",
   "pygments_lexer": "ipython3",
   "version": "3.9.7"
  },
  "orig_nbformat": 4,
  "vscode": {
   "interpreter": {
    "hash": "4e94127da5e596dc8d6210f9f94bfee13570c6bfd49eef8a896a40dfe8eb2aa6"
   }
  }
 },
 "nbformat": 4,
 "nbformat_minor": 2
}
